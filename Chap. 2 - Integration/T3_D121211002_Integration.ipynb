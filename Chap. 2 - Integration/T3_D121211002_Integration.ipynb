{
 "cells": [
  {
   "cell_type": "markdown",
   "id": "822f6dad-0776-41b7-8cd1-a528671b66b4",
   "metadata": {},
   "source": [
    "#### Nurunnisa Fathanah Dz. S. B.\n",
    "#### D121211002\n",
    "#### Metode Komputasi Numerik Kelas A\n"
   ]
  },
  {
   "cell_type": "markdown",
   "id": "36da82f0-a709-4436-abfe-fd54ffa16a3d",
   "metadata": {
    "tags": []
   },
   "source": [
    "#### Buat Grid dan Points\n",
    "1. Buat sebuah fungsi yang masukannya adalah a, b, dan n. a dan b adalah batas integrasi, n adalah jumlah grid yang akan dibuat. Keluaran fungsi ini adalah h (ukuran dari grid) dan titik $x_i$ ($i$ = 0 sampai n + 1, $x_{n+1}$ = b)\n",
    "\n",
    "    def namafungsi(a,b,n):\n",
    "    \n",
    "        ....\n",
    "    \n",
    "        return h,xi"
   ]
  },
  {
   "cell_type": "code",
   "execution_count": 1,
   "id": "8b1c4fab-bcaf-4cbc-91da-d4614396f842",
   "metadata": {},
   "outputs": [],
   "source": [
    "def gridPoints(a,b,n):\n",
    "    h = (b-a)/(n)\n",
    "    xi=[]\n",
    "    for i in range(n+1):\n",
    "        point = a + i*h\n",
    "        xi.append(point)\n",
    "    #print(f'Ukuran dari grid adalah: {h}')\n",
    "    #print(f'Xi adalah: {x}')\n",
    "    return h, xi"
   ]
  },
  {
   "cell_type": "code",
   "execution_count": 2,
   "id": "228f6373-498d-4ca9-bb54-5ab6887a1bd7",
   "metadata": {},
   "outputs": [
    {
     "name": "stdout",
     "output_type": "stream",
     "text": [
      "Ukuran dari grid adalah:  0.1\n",
      "Titik Xi adalah :  [0.0, 0.1, 0.2, 0.30000000000000004, 0.4, 0.5, 0.6000000000000001, 0.7000000000000001, 0.8, 0.9, 1.0]\n"
     ]
    }
   ],
   "source": [
    "#tes no.1\n",
    "a = 0\n",
    "b = 1\n",
    "n = 10\n",
    "h, xi = gridPoints(a,b,n)\n",
    "print(\"Ukuran dari grid adalah: \",h)\n",
    "print(\"Titik Xi adalah : \",xi)"
   ]
  },
  {
   "cell_type": "code",
   "execution_count": 3,
   "id": "6cb69e45-c7e5-447d-8377-774f1a971e76",
   "metadata": {},
   "outputs": [
    {
     "data": {
      "text/plain": [
       "0.1"
      ]
     },
     "execution_count": 3,
     "metadata": {},
     "output_type": "execute_result"
    }
   ],
   "source": [
    "h"
   ]
  },
  {
   "cell_type": "code",
   "execution_count": 4,
   "id": "bfa160eb-667a-43f7-a7ab-3b907c5ade07",
   "metadata": {},
   "outputs": [
    {
     "data": {
      "text/plain": [
       "[0.0,\n",
       " 0.1,\n",
       " 0.2,\n",
       " 0.30000000000000004,\n",
       " 0.4,\n",
       " 0.5,\n",
       " 0.6000000000000001,\n",
       " 0.7000000000000001,\n",
       " 0.8,\n",
       " 0.9,\n",
       " 1.0]"
      ]
     },
     "execution_count": 4,
     "metadata": {},
     "output_type": "execute_result"
    }
   ],
   "source": [
    "xi"
   ]
  },
  {
   "cell_type": "markdown",
   "id": "d22c4f2a-e070-4f4b-ab49-6d44dd149b70",
   "metadata": {
    "tags": []
   },
   "source": [
    "#### Hitung Segiempat Riemanns\n",
    "2. Buat sebuah fungsi yang masukannya adalah $x$ dan $f(x)$. Keluaran fungsi ini adalah $y$ (yaitu panjang/tinggi segiempat Riemann di titik $x$), yaitu $y_i$($i$ = 0 sampai ${n+1}$)\n",
    "\n",
    "    def namafungsi(y,fx):\n",
    "        \n",
    "        ....\n",
    "        \n",
    "        return y"
   ]
  },
  {
   "cell_type": "code",
   "execution_count": 5,
   "id": "18cc5d67-89b8-4ad0-9cd3-f1686a086ded",
   "metadata": {},
   "outputs": [],
   "source": [
    "def tinggiRiemanns(x, fx):\n",
    "    n = len(x) - 1\n",
    "    yi = []\n",
    "    for i in range(n):\n",
    "        y = f(x[i])\n",
    "        yi.append(y)\n",
    "    return yi"
   ]
  },
  {
   "cell_type": "code",
   "execution_count": 6,
   "id": "1bf7da1f-2e1b-4bab-8aa1-54f8c16105d3",
   "metadata": {},
   "outputs": [
    {
     "name": "stdout",
     "output_type": "stream",
     "text": [
      "Panjang/tinggi segiempat Riemann di titik Xi yaitu:  [0.0, 0.010000000000000002, 0.04000000000000001, 0.09000000000000002, 0.16000000000000003, 0.25, 0.3600000000000001, 0.4900000000000001, 0.6400000000000001, 0.81]\n"
     ]
    }
   ],
   "source": [
    "#tes no.2\n",
    "\n",
    "#fungsi\n",
    "def f(x):\n",
    "    return x**2\n",
    "\n",
    "a = 0        #batas bawah\n",
    "b = 1        #batas atas\n",
    "n = 10       #jumlah grid\n",
    "\n",
    "#hitung lebar dan titik grid\n",
    "h, xi = gridPoints(a, b, n)\n",
    "\n",
    "#hitung tinggi dari segi empat Riemanns\n",
    "yi = tinggiRiemanns(xi, f)\n",
    "\n",
    "print(\"Panjang/tinggi segiempat Riemann di titik Xi yaitu: \", yi)"
   ]
  },
  {
   "cell_type": "code",
   "execution_count": 7,
   "id": "941a7c6a-8415-4ed5-94aa-88352423df3f",
   "metadata": {},
   "outputs": [
    {
     "data": {
      "text/plain": [
       "[0.0,\n",
       " 0.010000000000000002,\n",
       " 0.04000000000000001,\n",
       " 0.09000000000000002,\n",
       " 0.16000000000000003,\n",
       " 0.25,\n",
       " 0.3600000000000001,\n",
       " 0.4900000000000001,\n",
       " 0.6400000000000001,\n",
       " 0.81]"
      ]
     },
     "execution_count": 7,
     "metadata": {},
     "output_type": "execute_result"
    }
   ],
   "source": [
    "yi"
   ]
  },
  {
   "cell_type": "markdown",
   "id": "6e415514-4e8e-4e3f-80c4-d4f162ad1430",
   "metadata": {
    "tags": []
   },
   "source": [
    "#### Hitung Riemanns Sum\n",
    "3. Menggunakan kedua fungsi yang sudah dibuat, hitung Riemanns Sum untuk $\\int_0^1 x^2$"
   ]
  },
  {
   "cell_type": "code",
   "execution_count": 8,
   "id": "b730df2b-6bb2-4d40-9260-2895ffcec255",
   "metadata": {},
   "outputs": [],
   "source": [
    "def riemann_sum(f, a, b, n):\n",
    "    \"\"\"\n",
    "    Menghitung Riemann sum dari fungsi f(x) pada interval [a,b] \n",
    "    menggunakan n subinterval.\n",
    "    \"\"\"\n",
    "    #menghitung lebar dan titik grid\n",
    "    h, xi = gridPoints(a, b, n)\n",
    "    #menghitung tinggi/panjang grid\n",
    "    yi = tinggiRiemanns(xi, f)\n",
    "\n",
    "    #menghitung Riemann sum\n",
    "    riemann_sum = sum(h*yi[i] for i in range (n))\n",
    "    \n",
    "    return riemann_sum\n"
   ]
  },
  {
   "cell_type": "code",
   "execution_count": 9,
   "id": "02b9c471-29d2-4b1f-8af2-b10a3ab926fc",
   "metadata": {},
   "outputs": [
    {
     "name": "stdout",
     "output_type": "stream",
     "text": [
      "Riemann sum: 0.2850000000000001\n"
     ]
    }
   ],
   "source": [
    "#tes no.3\n",
    "#fungsi\n",
    "def f(x):\n",
    "    return x**2\n",
    "\n",
    "#menentukan batas integrasi\n",
    "a = 0\n",
    "b = 1\n",
    "\n",
    "#menentukan jumlah subinterval\n",
    "n = 10\n",
    "\n",
    "# menghitung Riemann sum\n",
    "riemann_sum_val = riemann_sum(f, a, b, n)\n",
    "\n",
    "#menampilkan hasil\n",
    "print(\"Riemann sum:\", riemann_sum_val)\n"
   ]
  },
  {
   "cell_type": "code",
   "execution_count": 10,
   "id": "58545091-afdc-4c99-a8f4-164b74d16110",
   "metadata": {},
   "outputs": [
    {
     "data": {
      "text/plain": [
       "0.2850000000000001"
      ]
     },
     "execution_count": 10,
     "metadata": {},
     "output_type": "execute_result"
    }
   ],
   "source": [
    "riemann_sum_val"
   ]
  }
 ],
 "metadata": {
  "kernelspec": {
   "display_name": "Python 3 (ipykernel)",
   "language": "python",
   "name": "python3"
  },
  "language_info": {
   "codemirror_mode": {
    "name": "ipython",
    "version": 3
   },
   "file_extension": ".py",
   "mimetype": "text/x-python",
   "name": "python",
   "nbconvert_exporter": "python",
   "pygments_lexer": "ipython3",
   "version": "3.10.6"
  }
 },
 "nbformat": 4,
 "nbformat_minor": 5
}
